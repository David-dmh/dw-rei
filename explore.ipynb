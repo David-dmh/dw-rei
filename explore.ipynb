{
 "cells": [
  {
   "cell_type": "code",
   "execution_count": 2,
   "metadata": {},
   "outputs": [],
   "source": [
    "import pickle"
   ]
  },
  {
   "cell_type": "code",
   "execution_count": 5,
   "metadata": {},
   "outputs": [
    {
     "name": "stdout",
     "output_type": "stream",
     "text": [
      "{'suburb': 'Coombs', 'state': 'ACT', 'postcode': '2611', 'full_address': '34/41 Arthur Blakeley Way, Coombs, ACT 2611', 'price': None, 'bedrooms': 2, 'bathrooms': 2, 'parking_spaces': 1, 'building_size': '120', 'building_size_unit': 'm²', 'land_size': -1.0, 'land_size_unit': None, 'listing_company_name': 'Blackshaw Weston Creek Molonglo - WESTON', 'sold_date': None, 'description': \"This light-filled, two storey, 2 bedroom, 2 bathroom, single garage townhouse located at Coombs, in the heart of the Molonglo Valley, provides a great opportunity for one lucky buyer to call this place home.Downstairs you'll find the well-appointed kitchen with gas cooktop, dishwasher and spacious living area which also flows nicely onto the very private outdoor courtyard space.Upstairs, the main bedroom includes a good sized ensuite as well as built in wardrobes. The second bedroom upstairs also includes a built in wardrobe, with easy access to the second bathroom. Both bathrooms include floor to ceiling tiles and high end vanities.In addition to the two bathrooms upstairs, there is also a powder room located downstairs and a separate laundry space.Other features include ducted reverse cycle heating and cooling, timber flooring in the living space and carpeted bedrooms just to name a few.Located close to public transport and only 15 minutes from the Canberra CBD and 10 minutes from Woden, this location and property ticks all the boxes.Features:•\\tMaster Bedroom with built in wardrobe•\\tEnsuite•\\tSecond Bedroom with built in wardrobe•\\tBathroom•\\tDownstairs powder room•\\tGas cooktop•\\tDishwasher•\\tOpen plan living and dining•\\tPrivate courtyard space•\\tDucted reverse cycle heating & cooling•\\tTimber flooring •\\tCarpets in the bedrooms•\\tGood storage options•\\tGas hot water•\\tSingle garage with internal accessEER: 6Living: 82m2 (approx..)Courtyard: 19m2 (approx..)Garage: 19m2 (approx..)Strata: $338 pq (approx..)Rates: $450 pq (approx..)\", 'listing_download_date': '2022-03-01'}\n"
     ]
    }
   ],
   "source": [
    "\n",
    "with open(\"2022-03-01_ACT.txt\", 'rb') as f:\n",
    "    listings = pickle.load(f)\n",
    "    \n",
    "print(listings[0])\n"
   ]
  },
  {
   "cell_type": "code",
   "execution_count": null,
   "metadata": {},
   "outputs": [],
   "source": []
  }
 ],
 "metadata": {
  "interpreter": {
   "hash": "cd3e6994d392ffa6c0698c34aee2f64f60bfb58f65247cec280aa9363b8be48f"
  },
  "kernelspec": {
   "display_name": "Python 3.8.2 64-bit ('.venv': venv)",
   "language": "python",
   "name": "python3"
  },
  "language_info": {
   "codemirror_mode": {
    "name": "ipython",
    "version": 3
   },
   "file_extension": ".py",
   "mimetype": "text/x-python",
   "name": "python",
   "nbconvert_exporter": "python",
   "pygments_lexer": "ipython3",
   "version": "3.8.2"
  },
  "orig_nbformat": 4
 },
 "nbformat": 4,
 "nbformat_minor": 2
}
